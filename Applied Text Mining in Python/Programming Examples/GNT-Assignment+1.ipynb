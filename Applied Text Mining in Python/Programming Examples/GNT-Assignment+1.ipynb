{
 "cells": [
  {
   "cell_type": "markdown",
   "metadata": {},
   "source": [
    "---\n",
    "\n",
    "_You are currently looking at **version 1.1** of this notebook. To download notebooks and datafiles, as well as get help on Jupyter notebooks in the Coursera platform, visit the [Jupyter Notebook FAQ](https://www.coursera.org/learn/python-text-mining/resources/d9pwm) course resource._\n",
    "\n",
    "---"
   ]
  },
  {
   "cell_type": "markdown",
   "metadata": {},
   "source": [
    "# Assignment 1\n",
    "\n",
    "In this assignment, you'll be working with messy medical data and using regex to extract relevant infromation from the data. \n",
    "\n",
    "Each line of the `dates.txt` file corresponds to a medical note. Each note has a date that needs to be extracted, but each date is encoded in one of many formats.\n",
    "\n",
    "The goal of this assignment is to correctly identify all of the different date variants encoded in this dataset and to properly normalize and sort the dates. \n",
    "\n",
    "Here is a list of some of the variants you might encounter in this dataset:\n",
    "* 04/20/2009; 04/20/09; 4/20/09; 4/3/09\n",
    "* Mar-20-2009; Mar 20, 2009; March 20, 2009;  Mar. 20, 2009; Mar 20 2009;\n",
    "* 20 Mar 2009; 20 March 2009; 20 Mar. 2009; 20 March, 2009\n",
    "* Mar 20th, 2009; Mar 21st, 2009; Mar 22nd, 2009\n",
    "* Feb 2009; Sep 2009; Oct 2010\n",
    "* 6/2008; 12/2009\n",
    "* 2009; 2010\n",
    "\n",
    "Once you have extracted these date patterns from the text, the next step is to sort them in ascending chronological order accoring to the following rules:\n",
    "* Assume all dates in xx/xx/xx format are mm/dd/yy\n",
    "* Assume all dates where year is encoded in only two digits are years from the 1900's (e.g. 1/5/89 is January 5th, 1989)\n",
    "* If the day is missing (e.g. 9/2009), assume it is the first day of the month (e.g. September 1, 2009).\n",
    "* If the month is missing (e.g. 2010), assume it is the first of January of that year (e.g. January 1, 2010).\n",
    "* Watch out for potential typos as this is a raw, real-life derived dataset.\n",
    "\n",
    "With these rules in mind, find the correct date in each note and return a pandas Series in chronological order of the original Series' indices.\n",
    "\n",
    "For example if the original series was this:\n",
    "\n",
    "    0    1999\n",
    "    1    2010\n",
    "    2    1978\n",
    "    3    2015\n",
    "    4    1985\n",
    "\n",
    "Your function should return this:\n",
    "\n",
    "    0    2\n",
    "    1    4\n",
    "    2    0\n",
    "    3    1\n",
    "    4    3\n",
    "\n",
    "Your score will be calculated using [Kendall's tau](https://en.wikipedia.org/wiki/Kendall_rank_correlation_coefficient), a correlation measure for ordinal data.\n",
    "\n",
    "*This function should return a Series of length 500 and dtype int.*"
   ]
  },
  {
   "cell_type": "code",
   "execution_count": 28,
   "metadata": {},
   "outputs": [
    {
     "data": {
      "text/plain": [
       "0         03/25/93 Total time of visit (in minutes):\\n\n",
       "1                       6/18/85 Primary Care Doctor:\\n\n",
       "2    sshe plans to move as of 7/8/71 In-Home Servic...\n",
       "3                7 on 9/27/75 Audit C Score Current:\\n\n",
       "4    2/6/96 sleep studyPain Treatment Pain Level (N...\n",
       "5                    .Per 7/06/79 Movement D/O note:\\n\n",
       "6    4, 5/18/78 Patient's thoughts about current su...\n",
       "7    10/24/89 CPT Code: 90801 - Psychiatric Diagnos...\n",
       "8                         3/7/86 SOS-10 Total Score:\\n\n",
       "9             (4/10/71)Score-1Audit C Score Current:\\n\n",
       "dtype: object"
      ]
     },
     "execution_count": 28,
     "metadata": {},
     "output_type": "execute_result"
    }
   ],
   "source": [
    "#import library and read in data text file\n",
    "import pandas as pd\n",
    "\n",
    "doc = []\n",
    "with open('dates.txt') as file:\n",
    "    for line in file:\n",
    "        doc.append(line)\n",
    "\n",
    "df = pd.Series(doc)\n",
    "df.head(10)"
   ]
  },
  {
   "cell_type": "code",
   "execution_count": 29,
   "metadata": {},
   "outputs": [
    {
     "data": {
      "text/plain": [
       "495    1979 Family Psych History: Family History of S...\n",
       "496    therapist and friend died in ~2006 Parental/Ca...\n",
       "497                         2008 partial thyroidectomy\\n\n",
       "498    sPt describes a history of sexual abuse as a c...\n",
       "499    . In 1980, patient was living in Naples and de...\n",
       "dtype: object"
      ]
     },
     "execution_count": 29,
     "metadata": {},
     "output_type": "execute_result"
    }
   ],
   "source": [
    "df.tail()"
   ]
  },
  {
   "cell_type": "code",
   "execution_count": 30,
   "metadata": {
    "collapsed": true
   },
   "outputs": [],
   "source": [
    "def date_sorter():\n",
    "    import re\n",
    "    from calendar import month_name\n",
    "    import dateutil.parser\n",
    "    from datetime import datetime\n",
    "\n",
    "    df = pd.DataFrame(doc, columns=['text'])\n",
    "    pattern = \"[,.]? \\d{4}|\".join(month_name[1:]) + \"[,.]? \\d{4}\";\n",
    "\n",
    "    df['text'] = df['text'].apply(lambda x: x.strip('\\n'))\n",
    "\n",
    "    df['date'] = df['text'].apply(lambda x:re.findall(r'\\d{1,2}\\/\\d{1,2}\\/\\d{2,4}|\\d{1,2}\\-\\d{1,2}\\-\\d{2,4}|[A-Z][a-z]+\\-\\d{1,2}\\-\\d{4}|[A-Z][a-z]+[,.]? \\d{2}[a-z]*,? \\d{4}|\\d{1,2} [A-Z][a-z,.]+ \\d{4}|[A-Z][a-z]{2}[,.]? \\d{4}|'+pattern+r'|\\d{1,2}\\/\\d{4}|\\d{4}',x))\n",
    "    df['date'][271] = [df['date'][271][1]]\n",
    "    df['date'] = df['date'].apply(lambda x: x[0])\n",
    "    df['date'][461] = re.findall(r'\\d{4}',df['date'][461])[0]\n",
    "    df['date'][465] = re.findall(r'\\d{4}',df['date'][465])[0]\n",
    "\n",
    "    date_list = list(df['date'])\n",
    "\n",
    "    i=0\n",
    "    for year in date_list:\n",
    "        if(re.match(r'\\d{4}',year)) :\n",
    "            #print(year)  #uncomment/re-comment for review\n",
    "            date_list[i] = 'January 1, '+date_list[i]\n",
    "            year = date_list[i]\n",
    "        elif (re.match(r'\\d{1,2}\\/\\d{4}',year)) :\n",
    "            date_split = year.split('/')\n",
    "            date_list[i] = date_split[0] + '/1/'+date_split[1]\n",
    "            year = date_list[i]\n",
    "        elif(re.match(r'[A-Z][a-z]+[,.]? \\d{4}',year)) :\n",
    "            date_split = year.split(' ')\n",
    "            date_list[i] = date_split[0] + ' 1 '+date_split[1]\n",
    "            year = date_list[i]\n",
    "        date_list[i] = dateutil.parser.parse(date_list[i]).strftime(\"%m/%d/%Y\")\n",
    "        i = i+1\n",
    "\n",
    "    df['date'] = date_list\n",
    "    fun = lambda date: datetime.strptime(date, \"%m/%d/%Y\")\n",
    "    df['index'] = sorted(range(len(date_list)), key=lambda x : fun(date_list[x]))\n",
    "    sdf = df\n",
    "    sdf.drop('text', axis=1,inplace=True)\n",
    "    #result = sdf.sort_values(by='date',axis=0, ascending=False, kind='mergesort') #uncomment/re-comment for review\n",
    "    final = list(sdf['index'])\n",
    "    final_series = pd.Series(final)  \n",
    "    \n",
    "    return final_series"
   ]
  }
 ],
 "metadata": {
  "coursera": {
   "course_slug": "python-text-mining",
   "graded_item_id": "LvcWI",
   "launcher_item_id": "krne9",
   "part_id": "Mkp1I"
  },
  "kernelspec": {
   "display_name": "Python 3",
   "language": "python",
   "name": "python3"
  },
  "language_info": {
   "codemirror_mode": {
    "name": "ipython",
    "version": 3
   },
   "file_extension": ".py",
   "mimetype": "text/x-python",
   "name": "python",
   "nbconvert_exporter": "python",
   "pygments_lexer": "ipython3",
   "version": "3.6.2"
  }
 },
 "nbformat": 4,
 "nbformat_minor": 2
}
